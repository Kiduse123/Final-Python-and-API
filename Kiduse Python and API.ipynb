{
 "cells": [
  {
   "cell_type": "code",
   "execution_count": 2,
   "id": "6152718e-e56a-40a3-80c5-29215b30f516",
   "metadata": {},
   "outputs": [],
   "source": [
    "import json\n",
    "import pandas as pd\n",
    "import requests"
   ]
  },
  {
   "cell_type": "code",
   "execution_count": 3,
   "id": "012e806b-0d60-4330-80d6-797881126d0f",
   "metadata": {},
   "outputs": [
    {
     "name": "stdin",
     "output_type": "stream",
     "text": [
      "Enter the Ticker Symbol of the stock:  AAPL\n"
     ]
    }
   ],
   "source": [
    "#get stock from the user\n",
    "stock=input(\"Enter the Ticker Symbol of the stock: \")"
   ]
  },
  {
   "cell_type": "code",
   "execution_count": 4,
   "id": "dbee80bb-960a-4349-a171-e410e80bcb42",
   "metadata": {},
   "outputs": [
    {
     "name": "stdout",
     "output_type": "stream",
     "text": [
      "The Stock we will research is:AAPL\n"
     ]
    }
   ],
   "source": [
    "print(\"The Stock we will research is:\" + stock)"
   ]
  },
  {
   "cell_type": "code",
   "execution_count": 5,
   "id": "452f35c5-e29b-424e-9646-42c088d01ac8",
   "metadata": {},
   "outputs": [
    {
     "name": "stdout",
     "output_type": "stream",
     "text": [
      "{\"quoteResponse\":{\"result\":[{\"language\":\"en-US\",\"region\":\"US\",\"quoteType\":\"EQUITY\",\"typeDisp\":\"Equity\",\"quoteSourceName\":\"Delayed Quote\",\"triggerable\":true,\"customPriceAlertConfidence\":\"HIGH\",\"currency\":\"USD\",\"regularMarketChangePercent\":0.73086417,\"regularMarketPrice\":173.66,\"marketState\":\"POSTPOST\",\"exchangeTimezoneShortName\":\"EDT\",\"gmtOffSetMilliseconds\":-14400000,\"esgPopulated\":false,\"firstTradeDateMilliseconds\":345479400000,\"priceHint\":2,\"exchange\":\"NMS\",\"shortName\":\"Apple Inc.\",\"longName\":\"Apple Inc.\",\"messageBoardId\":\"finmb_24937\",\"exchangeTimezoneName\":\"America/New_York\",\"market\":\"us_market\",\"earningsTimestamp\":1691096400,\"earningsTimestampStart\":1698231540,\"earningsTimestampEnd\":1698667200,\"trailingAnnualDividendRate\":0.93,\"trailingPE\":29.08878,\"dividendRate\":0.96,\"trailingAnnualDividendYield\":0.0053944318,\"dividendYield\":0.56,\"epsTrailingTwelveMonths\":5.97,\"epsForward\":6.59,\"epsCurrentYear\":6.07,\"priceEpsCurrentYear\":28.609554,\"sharesOutstanding\":15634199552,\"bookValue\":3.852,\"fiftyDayAverage\":180.0958,\"fiftyDayAverageChange\":-6.435791,\"fiftyDayAverageChangePercent\":-0.035735376,\"twoHundredDayAverage\":166.6952,\"twoHundredDayAverageChange\":6.964798,\"twoHundredDayAverageChangePercent\":0.041781634,\"marketCap\":2715035107328,\"forwardPE\":26.352049,\"priceToBook\":45.083076,\"sourceInterval\":15,\"exchangeDataDelayedBy\":0,\"averageAnalystRating\":\"2.0 - Buy\",\"tradeable\":false,\"cryptoTradeable\":false,\"postMarketChangePercent\":-0.2245764,\"postMarketTime\":1696463996,\"postMarketPrice\":173.27,\"postMarketChange\":-0.3899994,\"regularMarketChange\":1.2600098,\"regularMarketTime\":1696449601,\"regularMarketDayHigh\":174.21,\"regularMarketDayRange\":\"170.98 - 174.21\",\"regularMarketDayLow\":170.98,\"regularMarketVolume\":52902698,\"regularMarketPreviousClose\":172.4,\"bid\":173.27,\"ask\":173.39,\"bidSize\":8,\"askSize\":8,\"fullExchangeName\":\"NasdaqGS\",\"financialCurrency\":\"USD\",\"regularMarketOpen\":171.09,\"averageDailyVolume3Month\":58319317,\"averageDailyVolume10Day\":56028770,\"fiftyTwoWeekLowChange\":49.490005,\"fiftyTwoWeekLowChangePercent\":0.39856654,\"fiftyTwoWeekRange\":\"124.17 - 198.23\",\"fiftyTwoWeekHighChange\":-24.569992,\"fiftyTwoWeekHighChangePercent\":-0.12394689,\"fiftyTwoWeekLow\":124.17,\"fiftyTwoWeekHigh\":198.23,\"fiftyTwoWeekChangePercent\":19.411396,\"dividendDate\":1692230400,\"displayName\":\"Apple\",\"symbol\":\"AAPL\"}],\"error\":null}}\n"
     ]
    }
   ],
   "source": [
    "apikey = \"uMRMinIJD540v16cvfytZ5qSlO7z3OwgajTUvD7R\"\n",
    "url = \"https://yfapi.net/v6/finance/quote\"\n",
    "querystring = {\"symbols\": stock}\n",
    "headers = {\n",
    "    'x-api-key': apikey\n",
    "}\n",
    "response = requests.request(\"GET\", url, headers=headers, params=querystring)\n",
    "print(response.text)"
   ]
  },
  {
   "cell_type": "code",
   "execution_count": 6,
   "id": "ecf98484-b4a4-41d2-84fa-32e55a4ea7ea",
   "metadata": {},
   "outputs": [
    {
     "name": "stdout",
     "output_type": "stream",
     "text": [
      "https://yfapi.net/v11/finance/quoteSummary/AAPL\n",
      "{'quoteSummary': {'result': [{'financialData': {'maxAge': 86400, 'currentPrice': {'raw': 173.66, 'fmt': '173.66'}, 'targetHighPrice': {'raw': 240.0, 'fmt': '240.00'}, 'targetLowPrice': {'raw': 149.0, 'fmt': '149.00'}, 'targetMeanPrice': {'raw': 199.56, 'fmt': '199.56'}, 'targetMedianPrice': {'raw': 200.0, 'fmt': '200.00'}, 'recommendationMean': {'raw': 2.0, 'fmt': '2.00'}, 'recommendationKey': 'buy', 'numberOfAnalystOpinions': {'raw': 36, 'fmt': '36', 'longFmt': '36'}, 'totalCash': {'raw': 62482001920, 'fmt': '62.48B', 'longFmt': '62,482,001,920'}, 'totalCashPerShare': {'raw': 3.996, 'fmt': '4'}, 'ebitda': {'raw': 123957002240, 'fmt': '123.96B', 'longFmt': '123,957,002,240'}, 'totalDebt': {'raw': 109280002048, 'fmt': '109.28B', 'longFmt': '109,280,002,048'}, 'quickRatio': {'raw': 0.814, 'fmt': '0.81'}, 'currentRatio': {'raw': 0.982, 'fmt': '0.98'}, 'totalRevenue': {'raw': 383932989440, 'fmt': '383.93B', 'longFmt': '383,932,989,440'}, 'debtToEquity': {'raw': 181.305, 'fmt': '181.30%'}, 'revenuePerShare': {'raw': 24.22, 'fmt': '24.22'}, 'returnOnAssets': {'raw': 0.20896, 'fmt': '20.90%'}, 'returnOnEquity': {'raw': 1.60093, 'fmt': '160.09%'}, 'grossProfits': {'raw': 170782000000, 'fmt': '170.78B', 'longFmt': '170,782,000,000'}, 'freeCashflow': {'raw': 90680500224, 'fmt': '90.68B', 'longFmt': '90,680,500,224'}, 'operatingCashflow': {'raw': 113071996928, 'fmt': '113.07B', 'longFmt': '113,071,996,928'}, 'earningsGrowth': {'raw': 0.05, 'fmt': '5.00%'}, 'revenueGrowth': {'raw': -0.014, 'fmt': '-1.40%'}, 'grossMargins': {'raw': 0.43449003, 'fmt': '43.45%'}, 'ebitdaMargins': {'raw': 0.32286, 'fmt': '32.29%'}, 'operatingMargins': {'raw': 0.29231, 'fmt': '29.23%'}, 'profitMargins': {'raw': 0.24681, 'fmt': '24.68%'}, 'financialCurrency': 'USD'}}], 'error': None}}\n",
      "The Mean target price for AAPL is 199.56\n"
     ]
    }
   ],
   "source": [
    "# To Find Target Mean Price\n",
    "apikey = \"uMRMinIJD540v16cvfytZ5qSlO7z3OwgajTUvD7R\"\n",
    "ticker = stock \n",
    "\n",
    "url = f\"https://yfapi.net/v11/finance/quoteSummary/{ticker}\"\n",
    "print(url)\n",
    "headers = {'x-api-key': apikey}\n",
    "\n",
    "financialData = \"financialData\"\n",
    "extra_param = {'modules' : financialData}\n",
    "\n",
    "stuff = requests.get(url, headers=headers, params = extra_param)\n",
    "json_data = stuff.json()\n",
    "\n",
    "print(json_data)\n",
    "\n",
    "# Takes the target Mean Price from JSON and handles any errors from lack of information\n",
    "try:\n",
    "    mean_target_price = json_data[\"quoteSummary\"][\"result\"][0][\"financialData\"][\"targetMeanPrice\"][\"raw\"]\n",
    "    print(f\"The Mean target price for {ticker} is {mean_target_price:.2f}\")\n",
    "except (KeyError, IndexError):\n",
    "    print(f\"Failed to retrieve Mean target price for {ticker}\")"
   ]
  },
  {
   "cell_type": "code",
   "execution_count": 7,
   "id": "7b0a7554-a682-4a7d-8bf8-f4dd1c709863",
   "metadata": {},
   "outputs": [
    {
     "name": "stdout",
     "output_type": "stream",
     "text": [
      "https://yfapi.net/v11/finance/quoteSummary/AAPL\n",
      "{'quoteSummary': {'result': [{'financialData': {'maxAge': 86400, 'currentPrice': {'raw': 173.66, 'fmt': '173.66'}, 'targetHighPrice': {'raw': 240.0, 'fmt': '240.00'}, 'targetLowPrice': {'raw': 149.0, 'fmt': '149.00'}, 'targetMeanPrice': {'raw': 199.56, 'fmt': '199.56'}, 'targetMedianPrice': {'raw': 200.0, 'fmt': '200.00'}, 'recommendationMean': {'raw': 2.0, 'fmt': '2.00'}, 'recommendationKey': 'buy', 'numberOfAnalystOpinions': {'raw': 36, 'fmt': '36', 'longFmt': '36'}, 'totalCash': {'raw': 62482001920, 'fmt': '62.48B', 'longFmt': '62,482,001,920'}, 'totalCashPerShare': {'raw': 3.996, 'fmt': '4'}, 'ebitda': {'raw': 123957002240, 'fmt': '123.96B', 'longFmt': '123,957,002,240'}, 'totalDebt': {'raw': 109280002048, 'fmt': '109.28B', 'longFmt': '109,280,002,048'}, 'quickRatio': {'raw': 0.814, 'fmt': '0.81'}, 'currentRatio': {'raw': 0.982, 'fmt': '0.98'}, 'totalRevenue': {'raw': 383932989440, 'fmt': '383.93B', 'longFmt': '383,932,989,440'}, 'debtToEquity': {'raw': 181.305, 'fmt': '181.30%'}, 'revenuePerShare': {'raw': 24.22, 'fmt': '24.22'}, 'returnOnAssets': {'raw': 0.20896, 'fmt': '20.90%'}, 'returnOnEquity': {'raw': 1.60093, 'fmt': '160.09%'}, 'grossProfits': {'raw': 170782000000, 'fmt': '170.78B', 'longFmt': '170,782,000,000'}, 'freeCashflow': {'raw': 90680500224, 'fmt': '90.68B', 'longFmt': '90,680,500,224'}, 'operatingCashflow': {'raw': 113071996928, 'fmt': '113.07B', 'longFmt': '113,071,996,928'}, 'earningsGrowth': {'raw': 0.05, 'fmt': '5.00%'}, 'revenueGrowth': {'raw': -0.014, 'fmt': '-1.40%'}, 'grossMargins': {'raw': 0.43449003, 'fmt': '43.45%'}, 'ebitdaMargins': {'raw': 0.32286, 'fmt': '32.29%'}, 'operatingMargins': {'raw': 0.29231, 'fmt': '29.23%'}, 'profitMargins': {'raw': 0.24681, 'fmt': '24.68%'}, 'financialCurrency': 'USD'}}], 'error': None}}\n",
      "The gross profit for AAPL is 170782000000.00\n"
     ]
    }
   ],
   "source": [
    "# To Find Gross Profit\n",
    "apikey = \"uMRMinIJD540v16cvfytZ5qSlO7z3OwgajTUvD7R\"\n",
    "ticker = stock \n",
    "\n",
    "url = f\"https://yfapi.net/v11/finance/quoteSummary/{ticker}\"\n",
    "print(url)\n",
    "headers = {'x-api-key': apikey}\n",
    "\n",
    "financialData = \"financialData\"\n",
    "extra_param = {'modules' : financialData}\n",
    "\n",
    "stuff = requests.get(url, headers=headers, params = extra_param)\n",
    "json_data = stuff.json()\n",
    "\n",
    "print(json_data)\n",
    "\n",
    "# Gross Profit from JSON and handles any errors from lack of information\n",
    "try:\n",
    "    gross_profit = json_data[\"quoteSummary\"][\"result\"][0][\"financialData\"][\"grossProfits\"][\"raw\"]\n",
    "    print(f\"The gross profit for {ticker} is {gross_profit:.2f}\")\n",
    "except (KeyError, IndexError):\n",
    "\n",
    "    print(f\"Failed to retrieve gross profit for {ticker}\")\n"
   ]
  },
  {
   "cell_type": "markdown",
   "id": "caf2e9c8-36c7-4fb2-8426-733c24d13c92",
   "metadata": {},
   "source": [
    "\n",
    "\n",
    "stock_json = response.json()\n",
    "print(stock_json['quoteResponse']['result'][0][\"displayName\"] + \" Price:$\" + str(stock_json['quoteResponse']['result'][0][\"regularMarketPrice\"]))"
   ]
  },
  {
   "cell_type": "code",
   "execution_count": 8,
   "id": "6f39d894-369e-404c-afc4-6f2a1b0bf463",
   "metadata": {},
   "outputs": [
    {
     "name": "stdout",
     "output_type": "stream",
     "text": [
      "https://yfapi.net/v11/finance/quoteSummary/AAPL\n",
      "{'quoteSummary': {'result': [{'financialData': {'maxAge': 86400, 'currentPrice': {'raw': 173.66, 'fmt': '173.66'}, 'targetHighPrice': {'raw': 240.0, 'fmt': '240.00'}, 'targetLowPrice': {'raw': 149.0, 'fmt': '149.00'}, 'targetMeanPrice': {'raw': 199.56, 'fmt': '199.56'}, 'targetMedianPrice': {'raw': 200.0, 'fmt': '200.00'}, 'recommendationMean': {'raw': 2.0, 'fmt': '2.00'}, 'recommendationKey': 'buy', 'numberOfAnalystOpinions': {'raw': 36, 'fmt': '36', 'longFmt': '36'}, 'totalCash': {'raw': 62482001920, 'fmt': '62.48B', 'longFmt': '62,482,001,920'}, 'totalCashPerShare': {'raw': 3.996, 'fmt': '4'}, 'ebitda': {'raw': 123957002240, 'fmt': '123.96B', 'longFmt': '123,957,002,240'}, 'totalDebt': {'raw': 109280002048, 'fmt': '109.28B', 'longFmt': '109,280,002,048'}, 'quickRatio': {'raw': 0.814, 'fmt': '0.81'}, 'currentRatio': {'raw': 0.982, 'fmt': '0.98'}, 'totalRevenue': {'raw': 383932989440, 'fmt': '383.93B', 'longFmt': '383,932,989,440'}, 'debtToEquity': {'raw': 181.305, 'fmt': '181.30%'}, 'revenuePerShare': {'raw': 24.22, 'fmt': '24.22'}, 'returnOnAssets': {'raw': 0.20896, 'fmt': '20.90%'}, 'returnOnEquity': {'raw': 1.60093, 'fmt': '160.09%'}, 'grossProfits': {'raw': 170782000000, 'fmt': '170.78B', 'longFmt': '170,782,000,000'}, 'freeCashflow': {'raw': 90680500224, 'fmt': '90.68B', 'longFmt': '90,680,500,224'}, 'operatingCashflow': {'raw': 113071996928, 'fmt': '113.07B', 'longFmt': '113,071,996,928'}, 'earningsGrowth': {'raw': 0.05, 'fmt': '5.00%'}, 'revenueGrowth': {'raw': -0.014, 'fmt': '-1.40%'}, 'grossMargins': {'raw': 0.43449003, 'fmt': '43.45%'}, 'ebitdaMargins': {'raw': 0.32286, 'fmt': '32.29%'}, 'operatingMargins': {'raw': 0.29231, 'fmt': '29.23%'}, 'profitMargins': {'raw': 0.24681, 'fmt': '24.68%'}, 'financialCurrency': 'USD'}}], 'error': None}}\n",
      "The Cash on Hand for AAPL is 62482001920.00\n"
     ]
    }
   ],
   "source": [
    "# To Find Cash on Hand\n",
    "apikey = \"uMRMinIJD540v16cvfytZ5qSlO7z3OwgajTUvD7R\"\n",
    "ticker = stock \n",
    "\n",
    "url = f\"https://yfapi.net/v11/finance/quoteSummary/{ticker}\"\n",
    "print(url)\n",
    "headers = {'x-api-key': apikey}\n",
    "\n",
    "financialData = \"financialData\"\n",
    "extra_param = {'modules' : financialData}\n",
    "\n",
    "stuff = requests.get(url, headers=headers, params = extra_param)\n",
    "json_data = stuff.json()\n",
    "\n",
    "print(json_data)\n",
    "\n",
    "# Get the Cash on Hand from JSON and handles any errors from lack of information\n",
    "try:\n",
    "    cash_on_hand = json_data[\"quoteSummary\"][\"result\"][0][\"financialData\"][\"totalCash\"][\"raw\"]\n",
    "    print(f\"The Cash on Hand for {ticker} is {cash_on_hand:.2f}\")\n",
    "except (KeyError, IndexError):\n",
    "\n",
    "    print(f\"Failed to retrieve cash on hand for {ticker}\")"
   ]
  },
  {
   "cell_type": "code",
   "execution_count": 9,
   "id": "fd0432a7-8c08-418a-8455-02f0b30fea05",
   "metadata": {},
   "outputs": [
    {
     "name": "stdout",
     "output_type": "stream",
     "text": [
      "AAPL, Apple Inc., Price:$173.66, Mean Target Price: 199.56, Cash on Hand:$62482001920Gross Profits:170782000000\n"
     ]
    }
   ],
   "source": [
    "stock_json = response.json()\n",
    "print(stock_json['quoteResponse']['result'][0][\"symbol\"] + \", \" + stock_json['quoteResponse']['result'][0][\"longName\"] + \", Price:$\" + str(stock_json['quoteResponse']['result'][0][\"regularMarketPrice\"])+ \", Mean Target Price: \" + str(mean_target_price) + \", Cash on Hand:$\" + str(cash_on_hand)+ \"Gross Profits:\" + str(gross_profit))"
   ]
  },
  {
   "cell_type": "code",
   "execution_count": 10,
   "id": "dd900693-c177-4b85-9e66-461e777b25d5",
   "metadata": {},
   "outputs": [
    {
     "name": "stdout",
     "output_type": "stream",
     "text": [
      "  Full name of Company  Mean Target Price  Cash on Hand  Gross Profits\n",
      "0           Apple Inc.             199.56   62482001920   170782000000\n"
     ]
    }
   ],
   "source": [
    "# Turns the JSON file into a Data frame\n",
    "stock_json = response.json()\n",
    "info = {'Full name of Company': [stock_json['quoteResponse']['result'][0][\"longName\"]],'Mean Target Price': [mean_target_price],'Cash on Hand': [cash_on_hand],'Gross Profits': [gross_profit]}\n",
    "df = pd.DataFrame(info)\n",
    "print(df)"
   ]
  },
  {
   "cell_type": "code",
   "execution_count": 11,
   "id": "42e53858-cc08-4b70-991f-343eb34c5bc5",
   "metadata": {},
   "outputs": [],
   "source": [
    "# This saves the data frame to both csv and json\n",
    "df.to_json('stock_info.json', orient='records')\n",
    "df.to_csv('stock_info.csv', index=False)"
   ]
  },
  {
   "cell_type": "code",
   "execution_count": null,
   "id": "ac168419-cded-4b29-b55c-1af7922992dc",
   "metadata": {},
   "outputs": [],
   "source": []
  }
 ],
 "metadata": {
  "kernelspec": {
   "display_name": "Python 3 (ipykernel)",
   "language": "python",
   "name": "python3"
  },
  "language_info": {
   "codemirror_mode": {
    "name": "ipython",
    "version": 3
   },
   "file_extension": ".py",
   "mimetype": "text/x-python",
   "name": "python",
   "nbconvert_exporter": "python",
   "pygments_lexer": "ipython3",
   "version": "3.8.16"
  }
 },
 "nbformat": 4,
 "nbformat_minor": 5
}
