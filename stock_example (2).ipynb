{
 "cells": [
  {
   "cell_type": "code",
   "execution_count": 1,
   "id": "6152718e-e56a-40a3-80c5-29215b30f516",
   "metadata": {},
   "outputs": [],
   "source": [
    "import json\n",
    "import pandas as pd\n",
    "import requests"
   ]
  },
  {
   "cell_type": "code",
   "execution_count": 1,
   "id": "012e806b-0d60-4330-80d6-797881126d0f",
   "metadata": {},
   "outputs": [
    {
     "name": "stdin",
     "output_type": "stream",
     "text": [
      "Enter the Ticker Symbol of the stock:  \n"
     ]
    }
   ],
   "source": [
    "#get stock from the user\n",
    "stock=input(\"Enter the Ticker Symbol of the stock: \")"
   ]
  },
  {
   "cell_type": "code",
   "execution_count": 1,
   "id": "dbee80bb-960a-4349-a171-e410e80bcb42",
   "metadata": {},
   "outputs": [
    {
     "ename": "NameError",
     "evalue": "name 'stock' is not defined",
     "output_type": "error",
     "traceback": [
      "\u001b[1;31m---------------------------------------------------------------------------\u001b[0m",
      "\u001b[1;31mNameError\u001b[0m                                 Traceback (most recent call last)",
      "Cell \u001b[1;32mIn[1], line 1\u001b[0m\n\u001b[1;32m----> 1\u001b[0m \u001b[38;5;28mprint\u001b[39m(\u001b[38;5;124m\"\u001b[39m\u001b[38;5;124mThe Stock we will research is:\u001b[39m\u001b[38;5;124m\"\u001b[39m \u001b[38;5;241m+\u001b[39m \u001b[43mstock\u001b[49m)\n",
      "\u001b[1;31mNameError\u001b[0m: name 'stock' is not defined"
     ]
    }
   ],
   "source": [
    "print(\"The Stock we will research is:\" + stock)"
   ]
  },
  {
   "cell_type": "code",
   "execution_count": 1,
   "id": "452f35c5-e29b-424e-9646-42c088d01ac8",
   "metadata": {},
   "outputs": [
    {
     "ename": "NameError",
     "evalue": "name 'stock' is not defined",
     "output_type": "error",
     "traceback": [
      "\u001b[1;31m---------------------------------------------------------------------------\u001b[0m",
      "\u001b[1;31mNameError\u001b[0m                                 Traceback (most recent call last)",
      "Cell \u001b[1;32mIn[1], line 3\u001b[0m\n\u001b[0;32m      1\u001b[0m apikey \u001b[38;5;241m=\u001b[39m \u001b[38;5;124m\"\u001b[39m\u001b[38;5;124muMRMinIJD540v16cvfytZ5qSlO7z3OwgajTUvD7R\u001b[39m\u001b[38;5;124m\"\u001b[39m\n\u001b[0;32m      2\u001b[0m url \u001b[38;5;241m=\u001b[39m \u001b[38;5;124m\"\u001b[39m\u001b[38;5;124mhttps://yfapi.net/v6/finance/quote\u001b[39m\u001b[38;5;124m\"\u001b[39m\n\u001b[1;32m----> 3\u001b[0m querystring \u001b[38;5;241m=\u001b[39m {\u001b[38;5;124m\"\u001b[39m\u001b[38;5;124msymbols\u001b[39m\u001b[38;5;124m\"\u001b[39m: \u001b[43mstock\u001b[49m}\n\u001b[0;32m      4\u001b[0m headers \u001b[38;5;241m=\u001b[39m {\n\u001b[0;32m      5\u001b[0m     \u001b[38;5;124m'\u001b[39m\u001b[38;5;124mx-api-key\u001b[39m\u001b[38;5;124m'\u001b[39m: apikey\n\u001b[0;32m      6\u001b[0m }\n\u001b[0;32m      7\u001b[0m response \u001b[38;5;241m=\u001b[39m requests\u001b[38;5;241m.\u001b[39mrequest(\u001b[38;5;124m\"\u001b[39m\u001b[38;5;124mGET\u001b[39m\u001b[38;5;124m\"\u001b[39m, url, headers\u001b[38;5;241m=\u001b[39mheaders, params\u001b[38;5;241m=\u001b[39mquerystring)\n",
      "\u001b[1;31mNameError\u001b[0m: name 'stock' is not defined"
     ]
    }
   ],
   "source": [
    "apikey = \"uMRMinIJD540v16cvfytZ5qSlO7z3OwgajTUvD7R\"\n",
    "url = \"https://yfapi.net/v6/finance/quote\"\n",
    "querystring = {\"symbols\": stock}\n",
    "headers = {\n",
    "    'x-api-key': apikey\n",
    "}\n",
    "response = requests.request(\"GET\", url, headers=headers, params=querystring)\n",
    "print(response.text)"
   ]
  },
  {
   "cell_type": "code",
   "execution_count": 1,
   "id": "ecf98484-b4a4-41d2-84fa-32e55a4ea7ea",
   "metadata": {},
   "outputs": [
    {
     "ename": "NameError",
     "evalue": "name 'stock' is not defined",
     "output_type": "error",
     "traceback": [
      "\u001b[1;31m---------------------------------------------------------------------------\u001b[0m",
      "\u001b[1;31mNameError\u001b[0m                                 Traceback (most recent call last)",
      "Cell \u001b[1;32mIn[1], line 3\u001b[0m\n\u001b[0;32m      1\u001b[0m \u001b[38;5;66;03m# To Find Target Mean Price\u001b[39;00m\n\u001b[0;32m      2\u001b[0m apikey \u001b[38;5;241m=\u001b[39m \u001b[38;5;124m\"\u001b[39m\u001b[38;5;124muMRMinIJD540v16cvfytZ5qSlO7z3OwgajTUvD7R\u001b[39m\u001b[38;5;124m\"\u001b[39m\n\u001b[1;32m----> 3\u001b[0m ticker \u001b[38;5;241m=\u001b[39m \u001b[43mstock\u001b[49m \n\u001b[0;32m      5\u001b[0m url \u001b[38;5;241m=\u001b[39m \u001b[38;5;124mf\u001b[39m\u001b[38;5;124m\"\u001b[39m\u001b[38;5;124mhttps://yfapi.net/v11/finance/quoteSummary/\u001b[39m\u001b[38;5;132;01m{\u001b[39;00mticker\u001b[38;5;132;01m}\u001b[39;00m\u001b[38;5;124m\"\u001b[39m\n\u001b[0;32m      6\u001b[0m \u001b[38;5;28mprint\u001b[39m(url)\n",
      "\u001b[1;31mNameError\u001b[0m: name 'stock' is not defined"
     ]
    }
   ],
   "source": [
    "# To Find Target Mean Price\n",
    "apikey = \"uMRMinIJD540v16cvfytZ5qSlO7z3OwgajTUvD7R\"\n",
    "ticker = stock \n",
    "\n",
    "url = f\"https://yfapi.net/v11/finance/quoteSummary/{ticker}\"\n",
    "print(url)\n",
    "headers = {'x-api-key': apikey}\n",
    "\n",
    "financialData = \"financialData\"\n",
    "extra_param = {'modules' : financialData}\n",
    "\n",
    "stuff = requests.get(url, headers=headers, params = extra_param)\n",
    "json_data = stuff.json()\n",
    "\n",
    "print(json_data)\n",
    "\n",
    "# Takes the target Mean Price from JSON and handles any errors from lack of information\n",
    "try:\n",
    "    mean_target_price = json_data[\"quoteSummary\"][\"result\"][0][\"financialData\"][\"targetMeanPrice\"][\"raw\"]\n",
    "    print(f\"The Mean target price for {ticker} is {mean_target_price:.2f}\")\n",
    "except (KeyError, IndexError):\n",
    "    print(f\"Failed to retrieve Mean target price for {ticker}\")"
   ]
  },
  {
   "cell_type": "code",
   "execution_count": 1,
   "id": "7b0a7554-a682-4a7d-8bf8-f4dd1c709863",
   "metadata": {},
   "outputs": [
    {
     "ename": "NameError",
     "evalue": "name 'stock' is not defined",
     "output_type": "error",
     "traceback": [
      "\u001b[1;31m---------------------------------------------------------------------------\u001b[0m",
      "\u001b[1;31mNameError\u001b[0m                                 Traceback (most recent call last)",
      "Cell \u001b[1;32mIn[1], line 3\u001b[0m\n\u001b[0;32m      1\u001b[0m \u001b[38;5;66;03m# To Find Gross Profit\u001b[39;00m\n\u001b[0;32m      2\u001b[0m apikey \u001b[38;5;241m=\u001b[39m \u001b[38;5;124m\"\u001b[39m\u001b[38;5;124muMRMinIJD540v16cvfytZ5qSlO7z3OwgajTUvD7R\u001b[39m\u001b[38;5;124m\"\u001b[39m\n\u001b[1;32m----> 3\u001b[0m ticker \u001b[38;5;241m=\u001b[39m \u001b[43mstock\u001b[49m \n\u001b[0;32m      5\u001b[0m url \u001b[38;5;241m=\u001b[39m \u001b[38;5;124mf\u001b[39m\u001b[38;5;124m\"\u001b[39m\u001b[38;5;124mhttps://yfapi.net/v11/finance/quoteSummary/\u001b[39m\u001b[38;5;132;01m{\u001b[39;00mticker\u001b[38;5;132;01m}\u001b[39;00m\u001b[38;5;124m\"\u001b[39m\n\u001b[0;32m      6\u001b[0m \u001b[38;5;28mprint\u001b[39m(url)\n",
      "\u001b[1;31mNameError\u001b[0m: name 'stock' is not defined"
     ]
    }
   ],
   "source": [
    "# To Find Gross Profit\n",
    "apikey = \"uMRMinIJD540v16cvfytZ5qSlO7z3OwgajTUvD7R\"\n",
    "ticker = stock \n",
    "\n",
    "url = f\"https://yfapi.net/v11/finance/quoteSummary/{ticker}\"\n",
    "print(url)\n",
    "headers = {'x-api-key': apikey}\n",
    "\n",
    "financialData = \"financialData\"\n",
    "extra_param = {'modules' : financialData}\n",
    "\n",
    "stuff = requests.get(url, headers=headers, params = extra_param)\n",
    "json_data = stuff.json()\n",
    "\n",
    "print(json_data)\n",
    "\n",
    "# Gross Profit from JSON and handles any errors from lack of information\n",
    "try:\n",
    "    gross_profit = json_data[\"quoteSummary\"][\"result\"][0][\"financialData\"][\"grossProfits\"][\"raw\"]\n",
    "    print(f\"The gross profit for {ticker} is {gross_profit:.2f}\")\n",
    "except (KeyError, IndexError):\n",
    "\n",
    "    print(f\"Failed to retrieve gross profit for {ticker}\")\n"
   ]
  },
  {
   "cell_type": "markdown",
   "id": "caf2e9c8-36c7-4fb2-8426-733c24d13c92",
   "metadata": {},
   "source": [
    "\n",
    "\n",
    "stock_json = response.json()\n",
    "print(stock_json['quoteResponse']['result'][0][\"displayName\"] + \" Price:$\" + str(stock_json['quoteResponse']['result'][0][\"regularMarketPrice\"]))"
   ]
  },
  {
   "cell_type": "code",
   "execution_count": 1,
   "id": "6f39d894-369e-404c-afc4-6f2a1b0bf463",
   "metadata": {},
   "outputs": [
    {
     "ename": "NameError",
     "evalue": "name 'stock' is not defined",
     "output_type": "error",
     "traceback": [
      "\u001b[1;31m---------------------------------------------------------------------------\u001b[0m",
      "\u001b[1;31mNameError\u001b[0m                                 Traceback (most recent call last)",
      "Cell \u001b[1;32mIn[1], line 3\u001b[0m\n\u001b[0;32m      1\u001b[0m \u001b[38;5;66;03m# To Find Cash on Hand\u001b[39;00m\n\u001b[0;32m      2\u001b[0m apikey \u001b[38;5;241m=\u001b[39m \u001b[38;5;124m\"\u001b[39m\u001b[38;5;124muMRMinIJD540v16cvfytZ5qSlO7z3OwgajTUvD7R\u001b[39m\u001b[38;5;124m\"\u001b[39m\n\u001b[1;32m----> 3\u001b[0m ticker \u001b[38;5;241m=\u001b[39m \u001b[43mstock\u001b[49m \n\u001b[0;32m      5\u001b[0m url \u001b[38;5;241m=\u001b[39m \u001b[38;5;124mf\u001b[39m\u001b[38;5;124m\"\u001b[39m\u001b[38;5;124mhttps://yfapi.net/v11/finance/quoteSummary/\u001b[39m\u001b[38;5;132;01m{\u001b[39;00mticker\u001b[38;5;132;01m}\u001b[39;00m\u001b[38;5;124m\"\u001b[39m\n\u001b[0;32m      6\u001b[0m \u001b[38;5;28mprint\u001b[39m(url)\n",
      "\u001b[1;31mNameError\u001b[0m: name 'stock' is not defined"
     ]
    }
   ],
   "source": [
    "# To Find Cash on Hand\n",
    "apikey = \"uMRMinIJD540v16cvfytZ5qSlO7z3OwgajTUvD7R\"\n",
    "ticker = stock \n",
    "\n",
    "url = f\"https://yfapi.net/v11/finance/quoteSummary/{ticker}\"\n",
    "print(url)\n",
    "headers = {'x-api-key': apikey}\n",
    "\n",
    "financialData = \"financialData\"\n",
    "extra_param = {'modules' : financialData}\n",
    "\n",
    "stuff = requests.get(url, headers=headers, params = extra_param)\n",
    "json_data = stuff.json()\n",
    "\n",
    "print(json_data)\n",
    "\n",
    "# Get the Cash on Hand from JSON and handles any errors from lack of information\n",
    "try:\n",
    "    cash_on_hand = json_data[\"quoteSummary\"][\"result\"][0][\"financialData\"][\"totalCash\"][\"raw\"]\n",
    "    print(f\"The Cash on Hand for {ticker} is {cash_on_hand:.2f}\")\n",
    "except (KeyError, IndexError):\n",
    "\n",
    "    print(f\"Failed to retrieve cash on hand for {ticker}\")"
   ]
  },
  {
   "cell_type": "code",
   "execution_count": 1,
   "id": "fd0432a7-8c08-418a-8455-02f0b30fea05",
   "metadata": {},
   "outputs": [
    {
     "ename": "NameError",
     "evalue": "name 'response' is not defined",
     "output_type": "error",
     "traceback": [
      "\u001b[1;31m---------------------------------------------------------------------------\u001b[0m",
      "\u001b[1;31mNameError\u001b[0m                                 Traceback (most recent call last)",
      "Cell \u001b[1;32mIn[1], line 1\u001b[0m\n\u001b[1;32m----> 1\u001b[0m stock_json \u001b[38;5;241m=\u001b[39m \u001b[43mresponse\u001b[49m\u001b[38;5;241m.\u001b[39mjson()\n\u001b[0;32m      2\u001b[0m \u001b[38;5;28mprint\u001b[39m(stock_json[\u001b[38;5;124m'\u001b[39m\u001b[38;5;124mquoteResponse\u001b[39m\u001b[38;5;124m'\u001b[39m][\u001b[38;5;124m'\u001b[39m\u001b[38;5;124mresult\u001b[39m\u001b[38;5;124m'\u001b[39m][\u001b[38;5;241m0\u001b[39m][\u001b[38;5;124m\"\u001b[39m\u001b[38;5;124msymbol\u001b[39m\u001b[38;5;124m\"\u001b[39m] \u001b[38;5;241m+\u001b[39m \u001b[38;5;124m\"\u001b[39m\u001b[38;5;124m, \u001b[39m\u001b[38;5;124m\"\u001b[39m \u001b[38;5;241m+\u001b[39m stock_json[\u001b[38;5;124m'\u001b[39m\u001b[38;5;124mquoteResponse\u001b[39m\u001b[38;5;124m'\u001b[39m][\u001b[38;5;124m'\u001b[39m\u001b[38;5;124mresult\u001b[39m\u001b[38;5;124m'\u001b[39m][\u001b[38;5;241m0\u001b[39m][\u001b[38;5;124m\"\u001b[39m\u001b[38;5;124mlongName\u001b[39m\u001b[38;5;124m\"\u001b[39m] \u001b[38;5;241m+\u001b[39m \u001b[38;5;124m\"\u001b[39m\u001b[38;5;124m, Price:$\u001b[39m\u001b[38;5;124m\"\u001b[39m \u001b[38;5;241m+\u001b[39m \u001b[38;5;28mstr\u001b[39m(stock_json[\u001b[38;5;124m'\u001b[39m\u001b[38;5;124mquoteResponse\u001b[39m\u001b[38;5;124m'\u001b[39m][\u001b[38;5;124m'\u001b[39m\u001b[38;5;124mresult\u001b[39m\u001b[38;5;124m'\u001b[39m][\u001b[38;5;241m0\u001b[39m][\u001b[38;5;124m\"\u001b[39m\u001b[38;5;124mregularMarketPrice\u001b[39m\u001b[38;5;124m\"\u001b[39m])\u001b[38;5;241m+\u001b[39m \u001b[38;5;124m\"\u001b[39m\u001b[38;5;124m, Mean Target Price: \u001b[39m\u001b[38;5;124m\"\u001b[39m \u001b[38;5;241m+\u001b[39m \u001b[38;5;28mstr\u001b[39m(mean_target_price) \u001b[38;5;241m+\u001b[39m \u001b[38;5;124m\"\u001b[39m\u001b[38;5;124m, Cash on Hand:$\u001b[39m\u001b[38;5;124m\"\u001b[39m \u001b[38;5;241m+\u001b[39m \u001b[38;5;28mstr\u001b[39m(cash_on_hand)\u001b[38;5;241m+\u001b[39m \u001b[38;5;124m\"\u001b[39m\u001b[38;5;124mGross Profits:\u001b[39m\u001b[38;5;124m\"\u001b[39m \u001b[38;5;241m+\u001b[39m \u001b[38;5;28mstr\u001b[39m(gross_profit))\n",
      "\u001b[1;31mNameError\u001b[0m: name 'response' is not defined"
     ]
    }
   ],
   "source": [
    "stock_json = response.json()\n",
    "print(stock_json['quoteResponse']['result'][0][\"symbol\"] + \", \" + stock_json['quoteResponse']['result'][0][\"longName\"] + \", Price:$\" + str(stock_json['quoteResponse']['result'][0][\"regularMarketPrice\"])+ \", Mean Target Price: \" + str(mean_target_price) + \", Cash on Hand:$\" + str(cash_on_hand)+ \"Gross Profits:\" + str(gross_profit))"
   ]
  },
  {
   "cell_type": "code",
   "execution_count": 9,
   "id": "dd900693-c177-4b85-9e66-461e777b25d5",
   "metadata": {},
   "outputs": [
    {
     "name": "stdout",
     "output_type": "stream",
     "text": [
      "  Full name of Company  Mean Target Price  Cash on Hand  Gross Profits\n",
      "0           Apple Inc.             199.56   62482001920   170782000000\n"
     ]
    }
   ],
   "source": [
    "# Turns the JSON file into a Data frame\n",
    "stock_json = response.json()\n",
    "info = {'Full name of Company': [stock_json['quoteResponse']['result'][0][\"longName\"]],'Mean Target Price': [mean_target_price],'Cash on Hand': [cash_on_hand],'Gross Profits': [gross_profit]}\n",
    "df = pd.DataFrame(info)\n",
    "print(df)"
   ]
  },
  {
   "cell_type": "code",
   "execution_count": 10,
   "id": "42e53858-cc08-4b70-991f-343eb34c5bc5",
   "metadata": {},
   "outputs": [],
   "source": [
    "# This saves the data frame to both csv and json\n",
    "df.to_json('stock_info.json', orient='records')\n",
    "df.to_csv('stock_info.csv', index=False)"
   ]
  },
  {
   "cell_type": "code",
   "execution_count": null,
   "id": "ac168419-cded-4b29-b55c-1af7922992dc",
   "metadata": {},
   "outputs": [],
   "source": []
  }
 ],
 "metadata": {
  "kernelspec": {
   "display_name": "Python 3 (ipykernel)",
   "language": "python",
   "name": "python3"
  },
  "language_info": {
   "codemirror_mode": {
    "name": "ipython",
    "version": 3
   },
   "file_extension": ".py",
   "mimetype": "text/x-python",
   "name": "python",
   "nbconvert_exporter": "python",
   "pygments_lexer": "ipython3",
   "version": "3.8.16"
  }
 },
 "nbformat": 4,
 "nbformat_minor": 5
}
